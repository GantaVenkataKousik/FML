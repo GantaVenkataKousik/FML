{
  "nbformat": 4,
  "nbformat_minor": 0,
  "metadata": {
    "colab": {
      "provenance": [],
      "authorship_tag": "ABX9TyPUHAK84MuSLWWWbOCU+DHo",
      "include_colab_link": true
    },
    "kernelspec": {
      "name": "python3",
      "display_name": "Python 3"
    },
    "language_info": {
      "name": "python"
    }
  },
  "cells": [
    {
      "cell_type": "markdown",
      "metadata": {
        "id": "view-in-github",
        "colab_type": "text"
      },
      "source": [
        "<a href=\"https://colab.research.google.com/github/Venkatakousik/FML/blob/main/nn_network_on_emnist_dataset.ipynb\" target=\"_parent\"><img src=\"https://colab.research.google.com/assets/colab-badge.svg\" alt=\"Open In Colab\"/></a>"
      ]
    },
    {
      "cell_type": "code",
      "execution_count": 21,
      "metadata": {
        "id": "Gbc5MLFFCFB4",
        "colab": {
          "base_uri": "https://localhost:8080/"
        },
        "outputId": "2df943e7-9886-45c8-9bbd-7ce6109958cc"
      },
      "outputs": [
        {
          "output_type": "stream",
          "name": "stdout",
          "text": [
            "Epoch [1/10], Loss: 0.0221\n",
            "Epoch [2/10], Loss: 0.0226\n",
            "Epoch [3/10], Loss: 0.0434\n",
            "Epoch [4/10], Loss: 0.0114\n",
            "Epoch [5/10], Loss: 0.0006\n",
            "Epoch [6/10], Loss: 0.0027\n",
            "Epoch [7/10], Loss: 0.0937\n",
            "Epoch [8/10], Loss: 0.0347\n",
            "Epoch [9/10], Loss: 0.0053\n",
            "Epoch [10/10], Loss: 0.0003\n",
            "Epoch [10/10], Loss: 0.0003, Test Accuracy: 98.61%\n"
          ]
        }
      ],
      "source": [
        "import torch\n",
        "import torch.nn as nn\n",
        "import torch.optim as optim\n",
        "import torchvision.datasets as datasets\n",
        "import torchvision.transforms as transforms\n",
        "# Define the neural network architecture\n",
        "import random\n",
        "import numpy as np\n",
        "import torch\n",
        "\n",
        "# Set the random seed for reproducibility\n",
        "random.seed(123)\n",
        "np.random.seed(123)\n",
        "torch.manual_seed(123)\n",
        "\n",
        "class Net(nn.Module):\n",
        "    def __init__(self):\n",
        "        super(Net, self).__init__()\n",
        "        self.fc1 = nn.Linear(784, 256)\n",
        "        self.fc2 = nn.Linear(256, 64)\n",
        "        self.fc3 = nn.Linear(64, 10)\n",
        "\n",
        "    def forward(self, x):\n",
        "        x = x.view(-1, 784)\n",
        "        x = torch.relu(self.fc1(x))\n",
        "        x = torch.relu(self.fc2(x))\n",
        "        x = self.fc3(x)\n",
        "        return x\n",
        "\n",
        "\n",
        "# Load the EMNIST dataset\n",
        "train_dataset = datasets.EMNIST(root='./data', split='digits', train=True, download=True,\n",
        "                                transform=transforms.Compose([transforms.ToTensor()]))\n",
        "test_dataset = datasets.EMNIST(root='./data', split='digits', train=False, download=True,\n",
        "                               transform=transforms.Compose([transforms.ToTensor()]))\n",
        "\n",
        "# Define the data loaders\n",
        "batch_size = 64\n",
        "train_loader = torch.utils.data.DataLoader(dataset=train_dataset, batch_size=batch_size, shuffle=True)\n",
        "test_loader = torch.utils.data.DataLoader(dataset=test_dataset, batch_size=batch_size, shuffle=False)\n",
        "# en(train_loader)\n",
        "# Initialize the neural network\n",
        "model = Net()\n",
        "\n",
        "criterion = nn.CrossEntropyLoss()\n",
        "optimizer = optim.SGD(model.parameters(), lr=0.1, momentum=0.9)\n",
        "\n",
        "# Define the learning rate scheduler\n",
        "scheduler = optim.lr_scheduler.CosineAnnealingLR(optimizer, T_max=100, eta_min=0)\n",
        "\n",
        "# Train the neural network\n",
        "num_epochs = 10\n",
        "for epoch in range(num_epochs):\n",
        "    for i, (images, labels) in enumerate(train_loader):\n",
        "        # Forward pass\n",
        "        outputs = model(images)\n",
        "\n",
        "        # Compute the loss\n",
        "        loss = criterion(outputs, labels)\n",
        "\n",
        "        # Backward and optimizer(train_loader)\n",
        "        optimizer.zero_grad()\n",
        "        loss.backward()\n",
        "        optimizer.step()\n",
        "\n",
        "        # Update the learning rate\n",
        "        scheduler.step()\n",
        "\n",
        "        # Print the training progress\n",
        "    print('Epoch [{}/{}], Loss: {:.4f}'.format(epoch+1, num_epochs,loss.item()))\n",
        "    \n",
        "\n",
        "\n",
        "# Test the neural network\n",
        "with torch.no_grad():\n",
        "    correct = 0\n",
        "    total = 0\n",
        "    for images, labels in test_loader:\n",
        "        outputs = model(images)\n",
        "        _, predicted = torch.max(outputs.data, 1)\n",
        "        total += labels.size(0)\n",
        "        correct += (predicted == labels).sum().item()\n",
        "    test_accuracy = 100 * correct / total\n",
        "    print('Epoch [{}/{}], Loss: {:.4f}, Test Accuracy: {:.2f}%'.format(epoch+1, num_epochs, loss.item(), test_accuracy))"
      ]
    }
  ]
}