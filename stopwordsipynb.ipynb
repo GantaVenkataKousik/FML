{
  "nbformat": 4,
  "nbformat_minor": 0,
  "metadata": {
    "colab": {
      "provenance": [],
      "include_colab_link": true
    },
    "kernelspec": {
      "name": "python3",
      "display_name": "Python 3"
    },
    "language_info": {
      "name": "python"
    }
  },
  "cells": [
    {
      "cell_type": "markdown",
      "metadata": {
        "id": "view-in-github",
        "colab_type": "text"
      },
      "source": [
        "<a href=\"https://colab.research.google.com/github/Venkatakousik/FML/blob/main/stopwordsipynb.ipynb\" target=\"_parent\"><img src=\"https://colab.research.google.com/assets/colab-badge.svg\" alt=\"Open In Colab\"/></a>"
      ]
    },
    {
      "cell_type": "code",
      "execution_count": null,
      "metadata": {
        "colab": {
          "base_uri": "https://localhost:8080/"
        },
        "id": "g061O-w9ja9k",
        "outputId": "a4ddeb2c-c422-4ea6-9b4b-fba86a35eb0c"
      },
      "outputs": [
        {
          "output_type": "stream",
          "name": "stdout",
          "text": [
            "['i', 'me', 'my', 'myself', 'we', 'our', 'ours', 'ourselves', 'you', \"you're\", \"you've\", \"you'll\", \"you'd\", 'your', 'yours', 'yourself', 'yourselves', 'he', 'him', 'his', 'himself', 'she', \"she's\", 'her', 'hers', 'herself', 'it', \"it's\", 'its', 'itself', 'they', 'them', 'their', 'theirs', 'themselves', 'what', 'which', 'who', 'whom', 'this', 'that', \"that'll\", 'these', 'those', 'am', 'is', 'are', 'was', 'were', 'be', 'been', 'being', 'have', 'has', 'had', 'having', 'do', 'does', 'did', 'doing', 'a', 'an', 'the', 'and', 'but', 'if', 'or', 'because', 'as', 'until', 'while', 'of', 'at', 'by', 'for', 'with', 'about', 'against', 'between', 'into', 'through', 'during', 'before', 'after', 'above', 'below', 'to', 'from', 'up', 'down', 'in', 'out', 'on', 'off', 'over', 'under', 'again', 'further', 'then', 'once', 'here', 'there', 'when', 'where', 'why', 'how', 'all', 'any', 'both', 'each', 'few', 'more', 'most', 'other', 'some', 'such', 'no', 'nor', 'not', 'only', 'own', 'same', 'so', 'than', 'too', 'very', 's', 't', 'can', 'will', 'just', 'don', \"don't\", 'should', \"should've\", 'now', 'd', 'll', 'm', 'o', 're', 've', 'y', 'ain', 'aren', \"aren't\", 'couldn', \"couldn't\", 'didn', \"didn't\", 'doesn', \"doesn't\", 'hadn', \"hadn't\", 'hasn', \"hasn't\", 'haven', \"haven't\", 'isn', \"isn't\", 'ma', 'mightn', \"mightn't\", 'mustn', \"mustn't\", 'needn', \"needn't\", 'shan', \"shan't\", 'shouldn', \"shouldn't\", 'wasn', \"wasn't\", 'weren', \"weren't\", 'won', \"won't\", 'wouldn', \"wouldn't\"]\n",
            "sorted Stop words :  {'s', 'herself', 'being', \"needn't\", 'below', 'having', 'for', 'your', \"wasn't\", 'and', \"it's\", 'here', 'at', \"should've\", 'up', 'were', 'we', 'above', 'mightn', 'of', 'until', \"aren't\", 'some', 'yours', 'aren', 'because', 'll', 'couldn', 'very', 'in', 'that', \"that'll\", 'has', 'to', 'all', \"couldn't\", 'yourself', 'after', 'she', 'how', 'on', 'same', 'do', 'its', \"hasn't\", 'ourselves', \"you're\", 'as', \"you've\", 'with', 'other', \"isn't\", \"you'll\", 'these', 'hasn', \"weren't\", 've', 'than', 'before', 'wouldn', 'just', 'now', 'him', 'when', 'had', \"don't\", 'own', 'against', 'from', 'isn', 'during', 'where', 'then', \"you'd\", 'out', 'further', \"hadn't\", 'ma', \"mustn't\", \"she's\", 'shan', 'doing', 'yourselves', 'he', 'whom', \"shouldn't\", 'm', 'hers', 'each', 'they', 'them', 'few', 'any', 'more', 'while', 'their', 'what', 'did', 'themselves', \"wouldn't\", \"mightn't\", 'doesn', 'd', 'a', 'but', 'or', 'don', 'does', 'too', \"didn't\", 'such', 'didn', 'so', 'myself', 'wasn', 'me', 'needn', 'you', 'his', 'our', 'by', 'itself', 'it', 'off', 'why', 'weren', 'under', 'will', 'ours', 'who', 'most', 'through', 'y', 'haven', 'this', 'there', 'can', 'between', 'nor', 'if', 't', 'been', 'should', 'her', 'hadn', 'am', 'into', 'my', 'again', 'those', 'be', \"shan't\", 'not', 'down', 'is', 'once', 'an', \"won't\", \"doesn't\", 'was', 'i', 'only', 'shouldn', 'the', 'are', 'have', 'both', 'o', 'ain', 'himself', 'mustn', 'theirs', 'which', 'about', 're', 'won', 'no', \"haven't\", 'over'}\n",
            "['We', 'are', 'learning', 'Natural', 'Language', 'Processing', 'as', 'part', 'of', 'Fundamentals', 'of', 'Machine', 'Learning', 'in', 'our', 'second', 'year', 'B.Tech', '.']\n",
            "['We', 'learning', 'Natural', 'Language', 'Processing', 'part', 'Fundamentals', 'Machine', 'Learning', 'second', 'year', 'B.Tech', '.']\n"
          ]
        },
        {
          "output_type": "stream",
          "name": "stderr",
          "text": [
            "[nltk_data] Downloading package stopwords to /root/nltk_data...\n",
            "[nltk_data]   Package stopwords is already up-to-date!\n",
            "[nltk_data] Downloading package punkt to /root/nltk_data...\n",
            "[nltk_data]   Package punkt is already up-to-date!\n"
          ]
        }
      ],
      "source": [
        "import nltk\n",
        "from nltk.corpus import stopwords\n",
        "import string\n",
        "nltk.download('stopwords')\n",
        "nltk.download('punkt')\n",
        "print(stopwords.words('english'))\n",
        "# The stopwords resource contains a list of common words \n",
        "#  (such as \"a,\" \"an,\" \"the,\" etc.) that are often removed from text during natural language processing tasks.\n",
        "\n",
        "#we remove all the stopworrd becoz they carry no meaning so e remove them from out sentences\n",
        "\n",
        "\n",
        "from nltk.corpus import stopwords\n",
        "from nltk.tokenize import word_tokenize\n",
        "#we ar using inbuilt mehthos in ntlk to break the sentence into words\n",
        "\n",
        "\n",
        "example_sent = \"\"\"We are learning Natural Language Processing as part of\n",
        "                Fundamentals of Machine Learning in our second year B.Tech.\"\"\"\n",
        "#we need to remove puncautuation also\n",
        "#there are imported frm string module\n",
        "punctuations = string.punctuation\n",
        "\n",
        "# the puncuatuationa are added to stopords\n",
        "for i in punctuations:\n",
        "  stop_words.add(i)\n",
        "# stop_words = set(stopwords.words('english'))\n",
        "# print(\"sorted Stop words : \",stop_words)\n",
        "#there osi no \n",
        "word_tokens = word_tokenize(example_sent)\n",
        "#here are sentenceds are broken itno words even if they are not meaning like punctuations\n",
        "\n",
        "#either we can use list comprehension to remove the stop words \n",
        "#we are checkign if words are not in stop words them inly we are adding it into filtered sentence list\n",
        "filtered_sentence = [w for w in word_tokens if not w.lower() in stop_words]\n",
        "  \n",
        "filtered_sentence = []\n",
        "  \n",
        "for w in word_tokens:\n",
        "    if w not in stop_words:\n",
        "        filtered_sentence.append(w)\n",
        "  \n",
        "print(word_tokens)\n",
        "print(filtered_sentence)"
      ]
    },
    {
      "cell_type": "code",
      "source": [],
      "metadata": {
        "id": "Ira-JYbrk-rb"
      },
      "execution_count": null,
      "outputs": []
    }
  ]
}