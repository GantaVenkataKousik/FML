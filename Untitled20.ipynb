{
  "nbformat": 4,
  "nbformat_minor": 0,
  "metadata": {
    "colab": {
      "provenance": [],
      "authorship_tag": "ABX9TyMf2rgnQQI5SiM/RdwM2q3b",
      "include_colab_link": true
    },
    "kernelspec": {
      "name": "python3",
      "display_name": "Python 3"
    },
    "language_info": {
      "name": "python"
    }
  },
  "cells": [
    {
      "cell_type": "markdown",
      "metadata": {
        "id": "view-in-github",
        "colab_type": "text"
      },
      "source": [
        "<a href=\"https://colab.research.google.com/github/Venkatakousik/FML/blob/main/Untitled20.ipynb\" target=\"_parent\"><img src=\"https://colab.research.google.com/assets/colab-badge.svg\" alt=\"Open In Colab\"/></a>"
      ]
    },
    {
      "cell_type": "code",
      "execution_count": 1,
      "metadata": {
        "colab": {
          "base_uri": "https://localhost:8080/"
        },
        "id": "y0zToNhZmmAl",
        "outputId": "05abc3c8-204a-46da-cd72-3913c472efff"
      },
      "outputs": [
        {
          "output_type": "stream",
          "name": "stdout",
          "text": [
            "{'Jupiter': 1, 'has': 2, '79': 3, 'known': 4, 'moons': 5, '.': 6, 'Neptune': 7, '14': 8, 'confirmed': 9, '!': 10}\n",
            "[[[0. 1. 0. 0. 0. 0. 0. 0. 0. 0. 0.]\n",
            "  [0. 0. 1. 0. 0. 0. 0. 0. 0. 0. 0.]\n",
            "  [0. 0. 0. 1. 0. 0. 0. 0. 0. 0. 0.]\n",
            "  [0. 0. 0. 0. 1. 0. 0. 0. 0. 0. 0.]\n",
            "  [0. 0. 0. 0. 0. 1. 0. 0. 0. 0. 0.]\n",
            "  [0. 0. 0. 0. 0. 0. 1. 0. 0. 0. 0.]]\n",
            "\n",
            " [[0. 0. 0. 0. 0. 0. 0. 1. 0. 0. 0.]\n",
            "  [0. 0. 1. 0. 0. 0. 0. 0. 0. 0. 0.]\n",
            "  [0. 0. 0. 0. 0. 0. 0. 0. 1. 0. 0.]\n",
            "  [0. 0. 0. 0. 0. 0. 0. 0. 0. 1. 0.]\n",
            "  [0. 0. 0. 0. 0. 1. 0. 0. 0. 0. 0.]\n",
            "  [0. 0. 0. 0. 0. 0. 0. 0. 0. 0. 1.]]]\n"
          ]
        }
      ],
      "source": [
        "import numpy as np\n",
        "samples = {'Jupiter has 79 known moons .', 'Neptune has 14 confirmed moons !'} # Sample set for our example\n",
        "# Create an empty dictionary\n",
        "token_index = {}\n",
        "#Create a counter for counting the number of key-value pairs in the token_length\n",
        "counter = 0\n",
        "\n",
        "# Select the elements of the samples which are the two sentences\n",
        "for sample in samples:                    \n",
        "  #the words in eachssample are splitted                   \n",
        "  for considered_word in sample.split():\n",
        "    if considered_word not in token_index:\n",
        "      \n",
        "      # If the considered word is not present in the dictionary token_index, add it to the token_index\n",
        "      # The index of the word in the dictionary begins from 1 \n",
        "      token_index.update({considered_word : counter + 1}) \n",
        "      \n",
        "      # updating the value of counter\n",
        "      counter = counter + 1               \n",
        "\n",
        "print(token_index)\n",
        "\n",
        "# Set max_length to 6\n",
        "max_length = 6\n",
        "# Create a tensor of dimension 3 named results whose every elements are initialized to 0\n",
        "results  = np.zeros(shape = (len(samples),\n",
        "                            max_length,\n",
        "                            max(token_index.values()) + 1))  \n",
        "\n",
        "# Now create a one-hot vector corresponding to the word\n",
        "# iterate over enumerate(samples) enumerate object\n",
        "for i, sample in enumerate(samples): \n",
        "  \n",
        "# Convert enumerate object to list and iterate over resultant list \n",
        "  for j, considered_word in list(enumerate(sample.split())):\n",
        "    \n",
        "    # set the value of index variable equal to the value of considered_word in token_index\n",
        "    index = token_index.get(considered_word)\n",
        "    \n",
        "    # In the previous zero tensor: results, set the value of elements with their positional index as [i, j, index] = 1.\n",
        "    results[i, j, index] = 1.  \n",
        "\n",
        "print(results)"
      ]
    }
  ]
}