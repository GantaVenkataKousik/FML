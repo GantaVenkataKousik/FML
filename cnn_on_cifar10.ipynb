{
  "nbformat": 4,
  "nbformat_minor": 0,
  "metadata": {
    "colab": {
      "provenance": [],
      "authorship_tag": "ABX9TyOYqYBq1OTdThk/dTplSWkB",
      "include_colab_link": true
    },
    "kernelspec": {
      "name": "python3",
      "display_name": "Python 3"
    },
    "language_info": {
      "name": "python"
    },
    "accelerator": "GPU",
    "gpuClass": "standard"
  },
  "cells": [
    {
      "cell_type": "markdown",
      "metadata": {
        "id": "view-in-github",
        "colab_type": "text"
      },
      "source": [
        "<a href=\"https://colab.research.google.com/github/Venkatakousik/FML/blob/main/cnn_on_cifar10.ipynb\" target=\"_parent\"><img src=\"https://colab.research.google.com/assets/colab-badge.svg\" alt=\"Open In Colab\"/></a>"
      ]
    },
    {
      "cell_type": "code",
      "execution_count": null,
      "metadata": {
        "id": "3W9bT6x2hMqs"
      },
      "outputs": [],
      "source": [
        "\n",
        "import tensorflow as tf\n",
        "from tensorflow.keras import datasets, layers, models\n",
        "from tensorflow.keras.optimizers import SGD\n",
        "import matplotlib.pyplot as plt\n",
        "import numpy as np\n",
        "from PIL import Image\n",
        "\n",
        "# Loading the Dataset\n",
        "(X_train, y_train), (X_test, y_test) = datasets.cifar10.load_data()\n",
        "X_train.shape\n",
        "y_train = y_train.reshape(-1,)\n",
        "y_test = y_test.reshape(-1,)\n",
        "classes = [\"airplane\", \"automobile\", \"bird\", \"cat\", \"deer\", \"dog\", \"frog\", \"horse\", \"ship\", \"truck\"]\n",
        "\n",
        "# Normalizing the training data\n",
        "X_train = X_train / 255.0\n",
        "X_test = X_test / 255.0\n",
        "\n",
        "# Build CNN model\n",
        "cnn = models.Sequential([\n",
        "    layers.Conv2D(filters=32, kernel_size=(3, 3), activation='relu', input_shape=(32, 32, 3)),\n",
        "    layers.MaxPooling2D((2, 2)),\n",
        "    layers.Conv2D(filters=64, kernel_size=(3, 3), activation='relu'),\n",
        "    layers.MaxPooling2D((2, 2)),\n",
        "    layers.Flatten(),\n",
        "    layers.Dense(64, activation='relu'),\n",
        "    layers.Dense(10, activation='softmax')\n",
        "])\n",
        "\n",
        "optimizer = SGD(learning_rate=0.001,momentum=0.9) \n",
        "cnn.compile(optimizer='SGD',  # Change optimizer from 'adam' to 'sgd'\n",
        "            loss='sparse_categorical_crossentropy',\n",
        "            metrics=['accuracy'])\n",
        "\n",
        "cnn.fit(X_train, y_train, epochs=15)\n"
      ]
    },
    {
      "cell_type": "code",
      "source": [
        "from google.colab import drive\n",
        "drive.mount('/content/drive')\n",
        "# Load external image for classification\n"
      ],
      "metadata": {
        "id": "3-paB3lEs5Nc"
      },
      "execution_count": null,
      "outputs": []
    },
    {
      "cell_type": "code",
      "source": [
        "image_path = \"/content/drive/MyDrive/cifar10/airplane1.jpg\" \n",
        "# image_path = \"/content/drive/MyDrive/truck.jpg\" \n",
        "# image_path = \"/content/drive/MyDrive/cifar10/horse.jpg\" \n",
        "\n",
        "# image_path = \"/content/drive/MyDrive/cifar10/bird.jpg\" \n",
        "\n",
        "# image_path = \"/content/drive/MyDrive/cifar10/frog.webp\"\n",
        "\n",
        "# image_path = \"/content/drive/MyDrive/cifar10/ship.jpg\" \n",
        "\n",
        "\n",
        "# image_path = \"/content/drive/MyDrive/cifar10/deer.jpg\" \n",
        " # Replace with the path to your image\n",
        "image = Image.open(image_path)\n",
        "image = image.resize((32, 32))  # Resize image to match input shape of the CNN\n",
        "image = np.array(image)\n",
        "image = image / 255.0  # Normalize the image pixel values\n",
        "image = np.expand_dims(image, axis=0)  # Add batch dimension\n",
        "\n",
        "# Predict class label of the external image\n",
        "y_pred = cnn.predict(image)\n",
        "predicted_class_index = np.argmax(y_pred)\n",
        "predicted_class = classes[predicted_class_index]\n",
        "\n",
        "# Display the external image and predicted class label\n",
        "plt.imshow(image.squeeze())\n",
        "plt.xlabel(predicted_class)\n",
        "plt.show()"
      ],
      "metadata": {
        "colab": {
          "base_uri": "https://localhost:8080/",
          "height": 466
        },
        "id": "RpqY0iFr1Ou1",
        "outputId": "e91247bb-a1d6-463e-fcfc-7be8701cf511"
      },
      "execution_count": 13,
      "outputs": [
        {
          "output_type": "stream",
          "name": "stdout",
          "text": [
            "1/1 [==============================] - 0s 20ms/step\n"
          ]
        },
        {
          "output_type": "display_data",
          "data": {
            "text/plain": [
              "<Figure size 640x480 with 1 Axes>"
            ],
            "image/png": "[encoded data removed]"
          },
          "metadata": {}
        }
      ]
    }
  ]
}