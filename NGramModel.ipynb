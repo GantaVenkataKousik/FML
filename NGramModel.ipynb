{
  "nbformat": 4,
  "nbformat_minor": 0,
  "metadata": {
    "colab": {
      "provenance": [],
      "authorship_tag": "ABX9TyPz7nygyUPE/Zs64A+FZDiv",
      "include_colab_link": true
    },
    "kernelspec": {
      "name": "python3",
      "display_name": "Python 3"
    },
    "language_info": {
      "name": "python"
    }
  },
  "cells": [
    {
      "cell_type": "markdown",
      "metadata": {
        "id": "view-in-github",
        "colab_type": "text"
      },
      "source": [
        "<a href=\"https://colab.research.google.com/github/Venkatakousik/FML/blob/main/NGramModel.ipynb\" target=\"_parent\"><img src=\"https://colab.research.google.com/assets/colab-badge.svg\" alt=\"Open In Colab\"/></a>"
      ]
    },
    {
      "cell_type": "code",
      "source": [
        "import nltk\n",
        "from nltk.corpus import reuters\n",
        "from nltk.util import ngrams\n",
        "from collections import defaultdict"
      ],
      "metadata": {
        "id": "MDczjFoPSGdS"
      },
      "execution_count": 6,
      "outputs": []
    },
    {
      "cell_type": "code",
      "source": [
        "# Load the Reuters corpus\n",
        "nltk.download('reuters')\n",
        "nltk.download('punkt')"
      ],
      "metadata": {
        "colab": {
          "base_uri": "https://localhost:8080/"
        },
        "id": "9ZDcihvwSLlc",
        "outputId": "3fce8545-d1b1-475c-9f83-96f3bc164175"
      },
      "execution_count": 7,
      "outputs": [
        {
          "output_type": "stream",
          "name": "stderr",
          "text": [
            "[nltk_data] Downloading package reuters to /root/nltk_data...\n",
            "[nltk_data]   Package reuters is already up-to-date!\n",
            "[nltk_data] Downloading package punkt to /root/nltk_data...\n",
            "[nltk_data]   Package punkt is already up-to-date!\n"
          ]
        },
        {
          "output_type": "execute_result",
          "data": {
            "text/plain": [
              "True"
            ]
          },
          "metadata": {},
          "execution_count": 7
        }
      ]
    },
    {
      "cell_type": "code",
      "source": [
        "# Create an N-gram language model\n",
        "def create_ngram_model(corpus, n):\n",
        "    ngram_model = defaultdict(list)\n",
        "\n",
        "    for sentence in corpus.sents():\n",
        "        ngrams_list = list(ngrams(sentence, n, pad_left=True, pad_right=True))\n",
        "\n",
        "        for ngram in ngrams_list:\n",
        "            context = tuple(ngram[:-1])\n",
        "            target = ngram[-1]\n",
        "            ngram_model[context].append(target)\n",
        "\n",
        "    return ngram_model"
      ],
      "metadata": {
        "id": "UvHD8NorSObB"
      },
      "execution_count": 8,
      "outputs": []
    },
    {
      "cell_type": "code",
      "source": [
        "# Define the order of the N-gram model\n",
        "n = 2\n",
        "\n",
        "# Create the N-gram language model\n",
        "ngram_model = create_ngram_model(reuters, n)"
      ],
      "metadata": {
        "id": "RvPh-UObSSLc"
      },
      "execution_count": 9,
      "outputs": []
    },
    {
      "cell_type": "code",
      "source": [
        "\n",
        "# Generate text based on the language model\n",
        "seed = ('The',) * (n - 1)\n",
        "generated_text = list(seed)\n"
      ],
      "metadata": {
        "id": "oOaWmwHrTJBx"
      },
      "execution_count": 12,
      "outputs": []
    },
    {
      "cell_type": "code",
      "source": [
        "print(generated_text)"
      ],
      "metadata": {
        "colab": {
          "base_uri": "https://localhost:8080/"
        },
        "id": "nW5xPtxhTMvC",
        "outputId": "980c6a11-f388-4b8a-a26f-542c10a6de01"
      },
      "execution_count": 13,
      "outputs": [
        {
          "output_type": "stream",
          "name": "stdout",
          "text": [
            "['The']\n"
          ]
        }
      ]
    },
    {
      "cell_type": "code",
      "execution_count": 10,
      "metadata": {
        "id": "qeypbcSXRjWi"
      },
      "outputs": [],
      "source": [
        "for _ in range(10):\n",
        "    context = tuple(generated_text[-(n - 1):])\n",
        "    next_word = ngram_model[context][0]\n",
        "    generated_text.append(next_word)"
      ]
    },
    {
      "cell_type": "code",
      "source": [
        "# Print the generated text\n",
        "print(' '.join(generated_text))"
      ],
      "metadata": {
        "colab": {
          "base_uri": "https://localhost:8080/"
        },
        "id": "FHMX5YUwSUIH",
        "outputId": "5d567744-f887-4033-e893-7fc76aeb2381"
      },
      "execution_count": 11,
      "outputs": [
        {
          "output_type": "stream",
          "name": "stdout",
          "text": [
            "The U . S .- JAPAN RIFT Mounting trade friction between\n"
          ]
        }
      ]
    }
  ]
}