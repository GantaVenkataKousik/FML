{
  "nbformat": 4,
  "nbformat_minor": 0,
  "metadata": {
    "colab": {
      "provenance": [],
      "authorship_tag": "ABX9TyMFeJK3KZpZ5cz12RTc18Mx",
      "include_colab_link": true
    },
    "kernelspec": {
      "name": "python3",
      "display_name": "Python 3"
    },
    "language_info": {
      "name": "python"
    }
  },
  "cells": [
    {
      "cell_type": "markdown",
      "metadata": {
        "id": "view-in-github",
        "colab_type": "text"
      },
      "source": [
        "<a href=\"https://colab.research.google.com/github/Venkatakousik/FML/blob/main/DecisionTree.ipynb\" target=\"_parent\"><img src=\"https://colab.research.google.com/assets/colab-badge.svg\" alt=\"Open In Colab\"/></a>"
      ]
    },
    {
      "cell_type": "code",
      "execution_count": null,
      "metadata": {
        "id": "oBrUTLfhXNum"
      },
      "outputs": [],
      "source": [
        "import pandas as pd\n",
        "from sklearn.model_selection import train_test_split\n",
        "from sklearn.svm import SVC\n",
        "from sklearn.metrics import confusion_matrix, classification_report\n",
        "\n",
        "# Load the dataset\n",
        "diabetes_data = pd.read_csv('pima_indians_diabetes.csv')\n",
        "\n",
        "# Split the dataset into features (X) and target variable (y)\n",
        "X = diabetes_data.drop('Outcome', axis=1)\n",
        "y = diabetes_data['Outcome']\n",
        "\n",
        "# Split the dataset into training and testing sets\n",
        "X_train, X_test, y_train, y_test = train_test_split(X, y, test_size=0.2, random_state=42)\n",
        "\n",
        "# Initialize the Support Vector Machine Classifier\n",
        "clf = SVC()\n",
        "\n",
        "# Train the classifier on the training data\n",
        "clf.fit(X_train, y_train)\n",
        "\n",
        "# Make predictions on the training and test data\n",
        "y_train_pred = clf.predict(X_train)\n",
        "y_test_pred = clf.predict(X_test)\n",
        "\n",
        "# Compute the confusion matrix and classification report for training data\n",
        "train_confusion_matrix = confusion_matrix(y_train, y_train_pred)\n",
        "train_classification_report = classification_report(y_train, y_train_pred)\n",
        "\n",
        "# Compute the confusion matrix and classification report for test data\n",
        "test_confusion_matrix = confusion_matrix(y_test, y_test_pred)\n",
        "test_classification_report = classification_report(y_test, y_test_pred)\n",
        "\n",
        "# Print the confusion matrix and classification report for training data\n",
        "print(\"Training Confusion Matrix:\")\n",
        "print(train_confusion_matrix)\n",
        "print(\"\\nTraining Classification Report:\")\n",
        "print(train_classification_report)\n",
        "\n",
        "print(\"\\n-------------------\\n\")\n",
        "\n",
        "# Print the confusion matrix and classification report for test data\n",
        "print(\"Test Confusion Matrix:\")\n",
        "print(test_confusion_matrix)\n",
        "print(\"\\nTest Classification Report:\")\n",
        "print(test_classification_report)\n"
      ]
    }
  ]
}