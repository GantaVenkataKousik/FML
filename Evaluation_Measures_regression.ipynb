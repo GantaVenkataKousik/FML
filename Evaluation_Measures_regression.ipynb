{
  "nbformat": 4,
  "nbformat_minor": 0,
  "metadata": {
    "colab": {
      "provenance": [],
      "authorship_tag": "ABX9TyOm1gAL8YLiUHVvCRW/Ihmp",
      "include_colab_link": true
    },
    "kernelspec": {
      "name": "python3",
      "display_name": "Python 3"
    },
    "language_info": {
      "name": "python"
    }
  },
  "cells": [
    {
      "cell_type": "markdown",
      "metadata": {
        "id": "view-in-github",
        "colab_type": "text"
      },
      "source": [
        "<a href=\"https://colab.research.google.com/github/Venkatakousik/FML/blob/main/Evaluation_Measures_regression.ipynb\" target=\"_parent\"><img src=\"https://colab.research.google.com/assets/colab-badge.svg\" alt=\"Open In Colab\"/></a>"
      ]
    },
    {
      "cell_type": "code",
      "execution_count": null,
      "metadata": {
        "id": "4YDnhc6hJqT9"
      },
      "outputs": [],
      "source": [
        "pip install -U scikit-learn\n"
      ]
    },
    {
      "cell_type": "code",
      "source": [
        "import pandas as pd\n",
        "df =  pd.read_csv('gdrive/MyDrive/Datasets/Iris.csv')\n",
        "print(df.to_string())"
      ],
      "metadata": {
        "id": "xKj3QIH2KWfr"
      },
      "execution_count": null,
      "outputs": []
    },
    {
      "cell_type": "code",
      "source": [
        "from google.colab import drive\n",
        "drive.mount('/content/gdrive')\n",
        "import pandas as pd\n",
        "df =  pd.read_csv('gdrive/MyDrive/Datasets/Iris.csv')\n",
        "print(df.to_string())"
      ],
      "metadata": {
        "id": "dPPsFfzPKs8f"
      },
      "execution_count": null,
      "outputs": []
    },
    {
      "cell_type": "code",
      "source": [
        "from sklearn.model_selection import train_test_split "
      ],
      "metadata": {
        "id": "V3efUlZYLV94"
      },
      "execution_count": null,
      "outputs": []
    },
    {
      "cell_type": "code",
      "source": [
        "print(df.head(5))"
      ],
      "metadata": {
        "colab": {
          "base_uri": "https://localhost:8080/"
        },
        "id": "DtRjWw-wK2HP",
        "outputId": "3d90c148-4a4a-4448-e474-5ce3e26267ef"
      },
      "execution_count": null,
      "outputs": [
        {
          "output_type": "stream",
          "name": "stdout",
          "text": [
            "   Id  SepalLengthCm  SepalWidthCm  PetalLengthCm  PetalWidthCm      Species\n",
            "0   1            5.1           3.5            1.4           0.2  Iris-setosa\n",
            "1   2            4.9           3.0            1.4           0.2  Iris-setosa\n",
            "2   3            4.7           3.2            1.3           0.2  Iris-setosa\n",
            "3   4            4.6           3.1            1.5           0.2  Iris-setosa\n",
            "4   5            5.0           3.6            1.4           0.2  Iris-setosa\n"
          ]
        }
      ]
    },
    {
      "cell_type": "code",
      "source": [
        "#creating set x and y\n",
        "x = df.drop(labels='Species', axis=1, inplace=False)\n",
        "y = df['Species']\n",
        "print(x)\n",
        "print(y)"
      ],
      "metadata": {
        "colab": {
          "base_uri": "https://localhost:8080/"
        },
        "id": "ed5BYdvnLjpU",
        "outputId": "b4c90612-c58f-4679-b217-ddd1d004f7ab"
      },
      "execution_count": null,
      "outputs": [
        {
          "output_type": "stream",
          "name": "stdout",
          "text": [
            "      Id  SepalLengthCm  SepalWidthCm  PetalLengthCm  PetalWidthCm\n",
            "0      1            5.1           3.5            1.4           0.2\n",
            "1      2            4.9           3.0            1.4           0.2\n",
            "2      3            4.7           3.2            1.3           0.2\n",
            "3      4            4.6           3.1            1.5           0.2\n",
            "4      5            5.0           3.6            1.4           0.2\n",
            "..   ...            ...           ...            ...           ...\n",
            "145  146            6.7           3.0            5.2           2.3\n",
            "146  147            6.3           2.5            5.0           1.9\n",
            "147  148            6.5           3.0            5.2           2.0\n",
            "148  149            6.2           3.4            5.4           2.3\n",
            "149  150            5.9           3.0            5.1           1.8\n",
            "\n",
            "[150 rows x 5 columns]\n",
            "0         Iris-setosa\n",
            "1         Iris-setosa\n",
            "2         Iris-setosa\n",
            "3         Iris-setosa\n",
            "4         Iris-setosa\n",
            "            ...      \n",
            "145    Iris-virginica\n",
            "146    Iris-virginica\n",
            "147    Iris-virginica\n",
            "148    Iris-virginica\n",
            "149    Iris-virginica\n",
            "Name: Species, Length: 150, dtype: object\n"
          ]
        }
      ]
    },
    {
      "cell_type": "code",
      "source": [
        "#shuffle retrives in a fixed order\n",
        "#random_state althouosh the data is shuffled but \n",
        "#every state always fixed to a particular order\n",
        "#state 42 is widley used\n",
        "x_train,x_test,y_train,y_test = train_test_split(x,y,shuffle=True,random_state=42)\n",
        "print(x_train)"
      ],
      "metadata": {
        "colab": {
          "base_uri": "https://localhost:8080/"
        },
        "id": "7cbmHUQoNoGs",
        "outputId": "b0b6f5f9-4389-4611-834b-7612e0a6e1d2"
      },
      "execution_count": null,
      "outputs": [
        {
          "output_type": "stream",
          "name": "stdout",
          "text": [
            "      Id  SepalLengthCm  SepalWidthCm  PetalLengthCm  PetalWidthCm\n",
            "4      5            5.0           3.6            1.4           0.2\n",
            "32    33            5.2           4.1            1.5           0.1\n",
            "142  143            5.8           2.7            5.1           1.9\n",
            "85    86            6.0           3.4            4.5           1.6\n",
            "86    87            6.7           3.1            4.7           1.5\n",
            "..   ...            ...           ...            ...           ...\n",
            "71    72            6.1           2.8            4.0           1.3\n",
            "106  107            4.9           2.5            4.5           1.7\n",
            "14    15            5.8           4.0            1.2           0.2\n",
            "92    93            5.8           2.6            4.0           1.2\n",
            "102  103            7.1           3.0            5.9           2.1\n",
            "\n",
            "[112 rows x 5 columns]\n"
          ]
        }
      ]
    },
    {
      "cell_type": "code",
      "source": [
        "y_test"
      ],
      "metadata": {
        "colab": {
          "base_uri": "https://localhost:8080/"
        },
        "id": "3HK8RbTpPZTp",
        "outputId": "1c343e13-08ab-4517-d2fe-853a0c2da344"
      },
      "execution_count": null,
      "outputs": [
        {
          "output_type": "execute_result",
          "data": {
            "text/plain": [
              "73     Iris-versicolor\n",
              "18         Iris-setosa\n",
              "118     Iris-virginica\n",
              "78     Iris-versicolor\n",
              "76     Iris-versicolor\n",
              "31         Iris-setosa\n",
              "64     Iris-versicolor\n",
              "141     Iris-virginica\n",
              "68     Iris-versicolor\n",
              "82     Iris-versicolor\n",
              "110     Iris-virginica\n",
              "12         Iris-setosa\n",
              "36         Iris-setosa\n",
              "9          Iris-setosa\n",
              "19         Iris-setosa\n",
              "56     Iris-versicolor\n",
              "104     Iris-virginica\n",
              "69     Iris-versicolor\n",
              "55     Iris-versicolor\n",
              "132     Iris-virginica\n",
              "29         Iris-setosa\n",
              "127     Iris-virginica\n",
              "26         Iris-setosa\n",
              "128     Iris-virginica\n",
              "131     Iris-virginica\n",
              "145     Iris-virginica\n",
              "108     Iris-virginica\n",
              "143     Iris-virginica\n",
              "45         Iris-setosa\n",
              "30         Iris-setosa\n",
              "22         Iris-setosa\n",
              "15         Iris-setosa\n",
              "65     Iris-versicolor\n",
              "11         Iris-setosa\n",
              "42         Iris-setosa\n",
              "146     Iris-virginica\n",
              "51     Iris-versicolor\n",
              "27         Iris-setosa\n",
              "Name: Species, dtype: object"
            ]
          },
          "metadata": {},
          "execution_count": 32
        }
      ]
    },
    {
      "cell_type": "code",
      "source": [
        "x = [1,3,5,7,9,11,13,15,17,19]\n",
        "y = [2,4,6,8,10,12,14,16,18,20]\n",
        "ycap = [1,3,4,6,9,11,14,19,15,25] \n",
        "x_train,x_test,y_train,y_test = train_test_split(x,y)\n"
      ],
      "metadata": {
        "id": "BxGAmPlrPm5J"
      },
      "execution_count": null,
      "outputs": []
    },
    {
      "cell_type": "code",
      "source": [
        "from sklearn.metrics import mean_absolute_error\n",
        "mae = mean_absolute_error(y,ycap,)\n",
        "print(\"Mean Absolute Error : \",mae)"
      ],
      "metadata": {
        "colab": {
          "base_uri": "https://localhost:8080/"
        },
        "id": "agpvX8ZvRCIn",
        "outputId": "0b95ea36-99c8-429d-c551-412d65194a91"
      },
      "execution_count": null,
      "outputs": [
        {
          "output_type": "stream",
          "name": "stdout",
          "text": [
            "Mean Absolute Error :  1.9\n"
          ]
        }
      ]
    },
    {
      "cell_type": "code",
      "source": [
        "from sklearn.metrics import mean_squared_error\n",
        "mse = mean_squared_error(y,ycap);\n",
        "print(\"Mean Squared Error : \",mse)"
      ],
      "metadata": {
        "colab": {
          "base_uri": "https://localhost:8080/"
        },
        "id": "Oww1bsO-SSzS",
        "outputId": "8139483e-1f46-46a1-b620-dfa032fec14b"
      },
      "execution_count": null,
      "outputs": [
        {
          "output_type": "stream",
          "name": "stdout",
          "text": [
            "Mean Squared Error :  5.5\n"
          ]
        }
      ]
    },
    {
      "cell_type": "code",
      "source": [
        "x_train\n",
        "# x_test"
      ],
      "metadata": {
        "colab": {
          "base_uri": "https://localhost:8080/"
        },
        "id": "SaIXxPMPOS9a",
        "outputId": "a9ca5649-2fc6-42b6-c77e-e1db015c9f70"
      },
      "execution_count": null,
      "outputs": [
        {
          "output_type": "execute_result",
          "data": {
            "text/plain": [
              "[7, 9, 19, 5, 11, 1, 3]"
            ]
          },
          "metadata": {},
          "execution_count": 39
        }
      ]
    },
    {
      "cell_type": "code",
      "source": [
        "from sklearn.metrics import r2_score\n",
        "# import numpy as np\n",
        "# mrse = np.sqrt(mse)\n",
        "score = r2_score(y,ycap)\n",
        "print(\"R2 score: \",score)"
      ],
      "metadata": {
        "colab": {
          "base_uri": "https://localhost:8080/"
        },
        "id": "r27DH2IqSqjC",
        "outputId": "aab8da77-ba5c-4f36-c9c5-2f4351b6aca8"
      },
      "execution_count": null,
      "outputs": [
        {
          "output_type": "stream",
          "name": "stdout",
          "text": [
            "R2 score:  0.8333333333333334\n"
          ]
        }
      ]
    },
    {
      "cell_type": "code",
      "source": [],
      "metadata": {
        "id": "87YRKt00Tmnj"
      },
      "execution_count": null,
      "outputs": []
    }
  ]
}